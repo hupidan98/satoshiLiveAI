{
 "cells": [
  {
   "cell_type": "code",
   "execution_count": 1,
   "metadata": {},
   "outputs": [
    {
     "name": "stdout",
     "output_type": "stream",
     "text": [
      "True\n",
      "Current working directory: /Users/jackhan/Desktop/AITown/satoshiLive/AIModule\n",
      "Config sections found: ['mysql', 'Paths']\n",
      "Connected to MySQL server and database 'AITown'\n"
     ]
    }
   ],
   "source": [
    "import sys\n",
    "import os\n",
    "sys.path.append('./DBmanipulation')\n",
    "sys.path.append('../DBmanipulation')\n",
    "sys.path.append('./AIMemory')\n",
    "sys.path.append('../AIMemory')\n",
    "\n",
    "import DBCon \n",
    "import BufferDB\n",
    "import InstructionDB\n",
    "import ReflectionTracerDB\n",
    "import MemStreDB\n",
    "import ReflectionDB\n",
    "# import ScheduleDB\n",
    "\n",
    "import GPTProcess\n",
    "import ManualProcess\n",
    "import InstToMemStre\n",
    "import InputToMemStre\n",
    "\n",
    "\n",
    "\n",
    "import pandas as pd\n",
    "import numpy as np\n",
    "import json\n",
    "import re\n",
    "import pickle\n"
   ]
  },
  {
   "cell_type": "code",
   "execution_count": 2,
   "metadata": {},
   "outputs": [
    {
     "name": "stdout",
     "output_type": "stream",
     "text": [
      "Current working directory: /Users/jackhan/Desktop/AITown/satoshiLive/AIModule\n",
      "Config sections found: ['mysql', 'Paths']\n",
      "Connected to MySQL server and database 'AITown'\n",
      "Earliest unprocessed entry: time=2025-02-05 14:29:03, npcId=10006, content={\"world\": {\"time\": 1738736943494}, \"mapObj\": [{\"oid\": \"zhongbencongType\", \"objName\": \"zhongbencongType\", \"type\": \"\", \"X\": 463, \"Y\": 722, \"status\": \"DEFAULT\", \"availableActions\": []}, {\"oid\": \"zhongbencongRead\", \"objName\": \"zhongbencongRead\", \"type\": \"\", \"X\": 240, \"Y\": 688, \"status\": \"DEFAULT\", \"availableActions\": []}, {\"oid\": \"zhongbencongFix\", \"objName\": \"zhongbencongFix\", \"type\": \"\", \"X\": 370, \"Y\": 304, \"status\": \"DEFAULT\", \"availableActions\": []}, {\"oid\": \"zhongbencongThink\", \"objName\": \"zhongbencongThink\", \"type\": \"\", \"X\": 336, \"Y\": 721, \"status\": \"DEFAULT\", \"availableActions\": []}], \"npcs\": [{\"npcId\": 10006, \"status\": \"idle\", \"info\": {\"name\": \"wSatoshi\", \"firstName\": \"wSatoshi\", \"lastName\": \"wSatoshi\", \"type\": \"Engineer\", \"age\": 20, \"height\": 180, \"weight\": 60, \"body_style\": \"fit and sturdy\", \"innate\": \"Visionary, Analytical, Persistent\", \"learned\": \"wSatoshi is a hardworking researcher and engineer who reading, thinking, and using computer all day long.\", \"lifestyle\": \"wSatoshi spends his days reading, typing, thinking, and repairing the \\u5c0f\\u7cbe\\u7075, and he enjoy going out to meet other characters.\", \"living_area\": \"house\", \"property\": \"house\"}, \"selling\": [], \"items\": [], \"action\": {\"actionName\": \"move\", \"actionId\": 112}, \"curAction\": {\"actionName\": \"move\", \"actionId\": 112, \"param\": {\"oid\": \"zhongbencongRead\"}}, \"mapData\": [], \"surroundings\": {\"people\": [], \"items\": [{\"oid\": \"zhongbencongRead\", \"objName\": \"zhongbencongRead\", \"type\": \"\"}, {\"oid\": \"zhongbencongThink\", \"objName\": \"zhongbencongThink\", \"type\": \"\"}]}, \"talk\": {\"isTalking\": false}}]}\n",
      "(datetime.datetime(2025, 2, 5, 14, 29, 3), 10006, '{\"world\": {\"time\": 1738736943494}, \"mapObj\": [{\"oid\": \"zhongbencongType\", \"objName\": \"zhongbencongType\", \"type\": \"\", \"X\": 463, \"Y\": 722, \"status\": \"DEFAULT\", \"availableActions\": []}, {\"oid\": \"zhongbencongRead\", \"objName\": \"zhongbencongRead\", \"type\": \"\", \"X\": 240, \"Y\": 688, \"status\": \"DEFAULT\", \"availableActions\": []}, {\"oid\": \"zhongbencongFix\", \"objName\": \"zhongbencongFix\", \"type\": \"\", \"X\": 370, \"Y\": 304, \"status\": \"DEFAULT\", \"availableActions\": []}, {\"oid\": \"zhongbencongThink\", \"objName\": \"zhongbencongThink\", \"type\": \"\", \"X\": 336, \"Y\": 721, \"status\": \"DEFAULT\", \"availableActions\": []}], \"npcs\": [{\"npcId\": 10006, \"status\": \"idle\", \"info\": {\"name\": \"wSatoshi\", \"firstName\": \"wSatoshi\", \"lastName\": \"wSatoshi\", \"type\": \"Engineer\", \"age\": 20, \"height\": 180, \"weight\": 60, \"body_style\": \"fit and sturdy\", \"innate\": \"Visionary, Analytical, Persistent\", \"learned\": \"wSatoshi is a hardworking researcher and engineer who reading, thinking, and using computer all day long.\", \"lifestyle\": \"wSatoshi spends his days reading, typing, thinking, and repairing the \\\\u5c0f\\\\u7cbe\\\\u7075, and he enjoy going out to meet other characters.\", \"living_area\": \"house\", \"property\": \"house\"}, \"selling\": [], \"items\": [], \"action\": {\"actionName\": \"move\", \"actionId\": 112}, \"curAction\": {\"actionName\": \"move\", \"actionId\": 112, \"param\": {\"oid\": \"zhongbencongRead\"}}, \"mapData\": [], \"surroundings\": {\"people\": [], \"items\": [{\"oid\": \"zhongbencongRead\", \"objName\": \"zhongbencongRead\", \"type\": \"\"}, {\"oid\": \"zhongbencongThink\", \"objName\": \"zhongbencongThink\", \"type\": \"\"}]}, \"talk\": {\"isTalking\": false}}]}', 0)\n",
      "Found 1 unprocessed entries for npcId=10006.\n",
      "Latest unprocessed entry for npcId=10006: time=2025-02-05 14:29:03\n"
     ]
    }
   ],
   "source": [
    "\n",
    "instruction_db_conn = schedule_db_conn = buffer_db_conn = reflection_tracer_db_conn = reflection_db_conne = memstre_db_conn = buffer_db_conn= DBCon.establish_sql_connection()\n",
    "input_from_java = BufferDB.get_earliest_unprocessed_entry(buffer_db_conn)\n",
    "print(input_from_java)\n",
    "\n",
    "if input_from_java is None:\n",
    "    print('Nothing to process so far')\n",
    "    print()\n",
    "    print()\n",
    "\n",
    "\n",
    "\n",
    "\n",
    "npcId = input_from_java[1]\n",
    "AllEntryOfNPC, LatestEntryOfNpc = BufferDB.get_unprocessed_entries_of_npc(buffer_db_conn, npcId)\n",
    "input_from_java = LatestEntryOfNpc\n",
    "\n",
    "\n",
    "\n",
    "curTime = input_from_java[0]\n",
    "inputInHumanString = ManualProcess.parse_npc_info(input_from_java[2])\n"
   ]
  },
  {
   "cell_type": "code",
   "execution_count": 3,
   "metadata": {},
   "outputs": [
    {
     "name": "stdout",
     "output_type": "stream",
     "text": [
      "Retrieved 0 entries for npcID=10006 before time=2025-02-05 14:29:03\n",
      "No entries found for npcID=10006 before 2025-02-05 14:29:03\n"
     ]
    }
   ],
   "source": [
    "# Get Relavent Memeory from Memeory Stream\n",
    "BufferRowEmbedding = GPTProcess.get_embedding(inputInHumanString)\n",
    "rows_df = MemStreDB.retrieve_most_recent_entries(memstre_db_conn, npcId, curTime)\n",
    "if rows_df is not None:\n",
    "    rows_df['Time'] = pd.to_datetime(rows_df['Time'])\n",
    "    rows_df['TimeDifference'] = (rows_df['Time'] - pd.to_datetime(curTime)).dt.total_seconds()\n",
    "    decay_rate = 0.001 \n",
    "    rows_df['recency'] = np.exp(decay_rate * rows_df['TimeDifference'])\n",
    "    def cosine_similarity(vec1, vec2):\n",
    "        dot_product = np.dot(vec1, vec2)\n",
    "        norm_vec1 = np.linalg.norm(vec1)\n",
    "        norm_vec2 = np.linalg.norm(vec2)\n",
    "        return dot_product / (norm_vec1 * norm_vec2)\n",
    "\n",
    "    rows_df['cosine_similarity'] = rows_df['Embedding'].apply(lambda x: cosine_similarity(BufferRowEmbedding, np.array(x)))\n",
    "\n",
    "    a_recency = 0.5  # Adjust the weight for recency as needed\n",
    "    a_importance = 0.3  # Adjust the weight for importance as needed\n",
    "    a_similarity = 0.2  # Adjust the weight for similarity as needed\n",
    "\n",
    "\n",
    "    rows_df['retrieval_score'] = (\n",
    "        a_recency * rows_df['recency'] +\n",
    "        a_importance * rows_df['Importance'] + \n",
    "        a_similarity * rows_df['cosine_similarity']\n",
    "    )\n",
    "\n",
    "    rows_df_ranked = rows_df.sort_values(by=['retrieval_score', 'Time'], ascending=[False, False]).head(50)\n",
    "    rows_df_ranked = rows_df_ranked.sort_values(by='Time', ascending=False)\n",
    "    rows_df_ranked\n",
    "    memories_str = str(list(rows_df_ranked['Content']))\n",
    "else:\n",
    "    memories_str = ''\n",
    "\n",
    "\n",
    "\n",
    "#Retrive latest reflection\n",
    "prior_reflection = ReflectionDB.retrieve_last_entry_before_time(reflection_db_conne, npcId, curTime)\n",
    "if prior_reflection is not None:\n",
    "    prior_reflection_str = str(prior_reflection[2])\n",
    "else:\n",
    "    prior_reflection_str = ''\n",
    "\n",
    "\n"
   ]
  },
  {
   "cell_type": "code",
   "execution_count": 4,
   "metadata": {},
   "outputs": [
    {
     "data": {
      "text/plain": [
       "'Time: 2025-02-05 14:29:03\\nNPC First Name: wSatoshi\\nNPC Last Name: wSatoshi\\nNPC Learned: wSatoshi is a hardworking researcher and engineer who reading, thinking, and using computer all day long.\\nNPC Lifestyle: wSatoshi spends his days reading, typing, thinking, and repairing the Coinnie, and he enjoy going out to meet other characters.\\nNPC Living Area: house\\nNPC Current Action: Reading'"
      ]
     },
     "execution_count": 4,
     "metadata": {},
     "output_type": "execute_result"
    }
   ],
   "source": [
    "inputInHumanString"
   ]
  },
  {
   "cell_type": "code",
   "execution_count": 5,
   "metadata": {},
   "outputs": [],
   "source": [
    "\n",
    "# Process these information \n",
    "instruction_in_human = GPTProcess.process_all_give_conversation(memories_str, prior_reflection_str, inputInHumanString, 'be dramatic')"
   ]
  },
  {
   "cell_type": "code",
   "execution_count": 6,
   "metadata": {},
   "outputs": [
    {
     "data": {
      "text/plain": [
       "'As I delve deeper into this mysterious text, a thrilling thought ignites within me… What if the secrets of the universe lie hidden within these pages? I must push forward, but I yearn for companionship! Who will join me on this grand intellectual adventure?'"
      ]
     },
     "execution_count": 6,
     "metadata": {},
     "output_type": "execute_result"
    }
   ],
   "source": [
    "instruction_in_human"
   ]
  },
  {
   "cell_type": "code",
   "execution_count": 7,
   "metadata": {},
   "outputs": [],
   "source": [
    "\n",
    "# Translate to instruction\n",
    "instruction_to_give = ManualProcess.talkingInstruction(npcId, instruction_in_human)"
   ]
  },
  {
   "cell_type": "code",
   "execution_count": 8,
   "metadata": {},
   "outputs": [
    {
     "data": {
      "text/plain": [
       "'\\n    {\\n        \"actionId\": 110,\\n        \"npcId\": \"10006\",\\n        \"data\": {\\n            \"content\": \"As I delve deeper into this mysterious text, a thrilling thought ignites within me… What if the secrets of the universe lie hidden within these pages? I must push forward, but I yearn for companionship! Who will join me on this grand intellectual adventure?\"\\n        }\\n    }\\n    '"
      ]
     },
     "execution_count": 8,
     "metadata": {},
     "output_type": "execute_result"
    }
   ],
   "source": [
    "instruction_to_give"
   ]
  },
  {
   "cell_type": "code",
   "execution_count": 9,
   "metadata": {},
   "outputs": [
    {
     "name": "stdout",
     "output_type": "stream",
     "text": [
      "Entry with time=2025-02-05 14:29:03 and npcId=10006 marked as processed.\n",
      "Entry with time=2025-02-05 14:29:03 and npcId=10006 marked as processed.\n",
      "Instruction inserted successfully: time=2025-02-05 14:29:03, npcId=10006, instruction length=379, isProcessed=False\n",
      "Data inserted successfully: npcID=10006, time=2025-02-05 14:29:03, isInstruction=1, content length=257, importance=7\n",
      "Current working directory: /Users/jackhan/Desktop/AITown/satoshiLive/AIModule\n",
      "Config sections found: ['mysql', 'Paths']\n",
      "Connected to MySQL server and database 'AITown'\n",
      "Table 'reflection_tracer' exists in database 'AITown'.\n",
      "(datetime.datetime(2025, 2, 5, 14, 29, 3), 10006, '{\"world\": {\"time\": 1738736943494}, \"mapObj\": [{\"oid\": \"zhongbencongType\", \"objName\": \"zhongbencongType\", \"type\": \"\", \"X\": 463, \"Y\": 722, \"status\": \"DEFAULT\", \"availableActions\": []}, {\"oid\": \"zhongbencongRead\", \"objName\": \"zhongbencongRead\", \"type\": \"\", \"X\": 240, \"Y\": 688, \"status\": \"DEFAULT\", \"availableActions\": []}, {\"oid\": \"zhongbencongFix\", \"objName\": \"zhongbencongFix\", \"type\": \"\", \"X\": 370, \"Y\": 304, \"status\": \"DEFAULT\", \"availableActions\": []}, {\"oid\": \"zhongbencongThink\", \"objName\": \"zhongbencongThink\", \"type\": \"\", \"X\": 336, \"Y\": 721, \"status\": \"DEFAULT\", \"availableActions\": []}], \"npcs\": [{\"npcId\": 10006, \"status\": \"idle\", \"info\": {\"name\": \"wSatoshi\", \"firstName\": \"wSatoshi\", \"lastName\": \"wSatoshi\", \"type\": \"Engineer\", \"age\": 20, \"height\": 180, \"weight\": 60, \"body_style\": \"fit and sturdy\", \"innate\": \"Visionary, Analytical, Persistent\", \"learned\": \"wSatoshi is a hardworking researcher and engineer who reading, thinking, and using computer all day long.\", \"lifestyle\": \"wSatoshi spends his days reading, typing, thinking, and repairing the \\\\u5c0f\\\\u7cbe\\\\u7075, and he enjoy going out to meet other characters.\", \"living_area\": \"house\", \"property\": \"house\"}, \"selling\": [], \"items\": [], \"action\": {\"actionName\": \"move\", \"actionId\": 112}, \"curAction\": {\"actionName\": \"move\", \"actionId\": 112, \"param\": {\"oid\": \"zhongbencongRead\"}}, \"mapData\": [], \"surroundings\": {\"people\": [], \"items\": [{\"oid\": \"zhongbencongRead\", \"objName\": \"zhongbencongRead\", \"type\": \"\"}, {\"oid\": \"zhongbencongThink\", \"objName\": \"zhongbencongThink\", \"type\": \"\"}]}, \"talk\": {\"isTalking\": false}}]}', 0)\n",
      "No entry found for npcID=10006\n",
      "10006 5 2025-02-05 14:29:03\n",
      "Data inserted successfully: npcID=10006, total_importance=5, start_time=2025-02-05 14:29:03, end_time=2025-02-05 14:29:03\n",
      "\n",
      "    {\n",
      "        \"actionId\": 110,\n",
      "        \"npcId\": \"10006\",\n",
      "        \"data\": {\n",
      "            \"content\": \"As I delve deeper into this mysterious text, a thrilling thought ignites within me… What if the secrets of the universe lie hidden within these pages? I must push forward, but I yearn for companionship! Who will join me on this grand intellectual adventure?\"\n",
      "        }\n",
      "    }\n",
      "    \n"
     ]
    }
   ],
   "source": [
    "\n",
    "\n",
    "\n",
    "# Mark the buffer as processed\n",
    "BufferDB.mark_entry_as_processed(buffer_db_conn, curTime, npcId)\n",
    "for row in AllEntryOfNPC:\n",
    "    time_to_mark = row[0]\n",
    "    npcId_to_mark = row[1]\n",
    "    BufferDB.mark_entry_as_processed(buffer_db_conn, time_to_mark, npcId_to_mark)\n",
    "# add to instruction db\n",
    "InstructionDB.insert_into_instruction_table(instruction_db_conn, curTime, npcId, instruction_to_give)\n",
    "\n",
    "# insert instruction to Memory Stream\n",
    "InstToMemStre.InstToMemStreSatoshiDB(input_from_java, instruction_in_human)\n",
    "# add importance to Reflection Tracer\n",
    "InstToMemStre.InstImportancetoReflectionTracer( input_from_java, instruction_to_give)\n",
    "print(instruction_to_give)\n"
   ]
  },
  {
   "cell_type": "code",
   "execution_count": null,
   "metadata": {},
   "outputs": [],
   "source": []
  }
 ],
 "metadata": {
  "kernelspec": {
   "display_name": "base",
   "language": "python",
   "name": "python3"
  },
  "language_info": {
   "codemirror_mode": {
    "name": "ipython",
    "version": 3
   },
   "file_extension": ".py",
   "mimetype": "text/x-python",
   "name": "python",
   "nbconvert_exporter": "python",
   "pygments_lexer": "ipython3",
   "version": "3.11.4"
  }
 },
 "nbformat": 4,
 "nbformat_minor": 2
}
