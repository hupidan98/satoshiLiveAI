{
 "cells": [
  {
   "cell_type": "code",
   "execution_count": 1,
   "metadata": {},
   "outputs": [
    {
     "name": "stdout",
     "output_type": "stream",
     "text": [
      "Current working directory: /Users/jackhan/Desktop/AITown/satoshiLive/satoshiLiveAI/BhrCtrl\n",
      "Config sections found: ['mysql', 'Paths', 'OpenAI', 'NetworkSocket']\n",
      "YAML content loaded successfully.\n"
     ]
    }
   ],
   "source": [
    "import BhrLgcGPTProcess\n",
    "import BhrLgcManualProcess\n",
    "\n",
    "import pandas as pd\n",
    "import numpy as np\n",
    "import json\n",
    "import re\n",
    "import pickle\n",
    "import hashlib"
   ]
  },
  {
   "cell_type": "code",
   "execution_count": 2,
   "metadata": {},
   "outputs": [],
   "source": [
    "java_json = \"\"\"\n",
    "\n",
    "{\"world\": {\"time\": 1878522183069}, \"npcs\": [{\"npcId\": 10006, \"status\": \"free\", \"selling\": [], \"items\": [], \"action\": {\"param\": {\"gridX\": 0.0, \"gridY\": 0.0, \"npcId\": 10010.0}}, \"curAction\": {}, \"mapData\": [], \"surroundings\": {\"people\": [{\"npcId\": 10007, \"status\": \"free\"}, {\"npcId\": 10008, \"status\": \"free\"}, {\"npcId\": 10009, \"status\": \"free\"}, {\"npcId\": 10010, \"status\": \"move\"}], \"items\": []}, \"talk\": {\"isTalking\": true, \"talkingTo\": [10010], \"contents\": [{\"sender\": 10010, \"target\": 10006, \"time\": 1733814348917, \"content\": \"Satoshi, this \\u2018Quantum Brew\\u2019 might just be the blend to unlock your next crypto idea\\u2014let\\u2019s see how it spins the taste of innovation!\"}]}}]}\n",
    "\n",
    "\"\"\""
   ]
  },
  {
   "cell_type": "code",
   "execution_count": 3,
   "metadata": {},
   "outputs": [
    {
     "data": {
      "text/plain": [
       "{'world': {'time': 1878522183069},\n",
       " 'npcs': [{'npcId': 10006,\n",
       "   'status': 'free',\n",
       "   'selling': [],\n",
       "   'items': [],\n",
       "   'action': {'param': {'gridX': 0.0, 'gridY': 0.0, 'npcId': 10010.0}},\n",
       "   'curAction': {},\n",
       "   'mapData': [],\n",
       "   'surroundings': {'people': [{'npcId': 10007, 'status': 'free'},\n",
       "     {'npcId': 10008, 'status': 'free'},\n",
       "     {'npcId': 10009, 'status': 'free'},\n",
       "     {'npcId': 10010, 'status': 'move'}],\n",
       "    'items': []},\n",
       "   'talk': {'isTalking': True,\n",
       "    'talkingTo': [10010],\n",
       "    'contents': [{'sender': 10010,\n",
       "      'target': 10006,\n",
       "      'time': 1733814348917,\n",
       "      'content': 'Satoshi, this ‘Quantum Brew’ might just be the blend to unlock your next crypto idea—let’s see how it spins the taste of innovation!'}]}}]}"
      ]
     },
     "execution_count": 3,
     "metadata": {},
     "output_type": "execute_result"
    }
   ],
   "source": [
    "test_json = json.loads(java_json)\n",
    "# if \"mapObj\" in test_json:\n",
    "#     del test_json[\"mapObj\"]\n",
    "test_json"
   ]
  },
  {
   "cell_type": "code",
   "execution_count": 4,
   "metadata": {},
   "outputs": [
    {
     "name": "stdout",
     "output_type": "stream",
     "text": [
      "I am free free\n",
      "I am free free\n",
      "talkingInfo: Pippin said to Satoshi: Satoshi, this ‘Quantum Brew’ might just be the blend to unlock your next crypto idea—let’s see how it spins the taste of innovation! \n",
      "\n",
      "is_talking: True\n",
      "is_idling: True\n",
      "inputInHumanString: \n",
      "    Now is 2029-07-12 11:43:03. \n",
      "    Pippin said to Satoshi: Satoshi, this ‘Quantum Brew’ might just be the blend to unlock your next crypto idea—let’s see how it spins the taste of innovation! \n",
      "\n",
      "    \n",
      "is_findingToTalk: False\n",
      "is_talking: True\n",
      "is_buying: False\n",
      "target_sleeping: False\n",
      "sleep_target_name: Pippin\n",
      "target_talking: False\n",
      "talk_target_name: Pippin\n",
      "shop_target_present: False\n",
      "shopowner_target_name: None\n",
      "to_memory: At 2029-07-12 11:43:03, Pippin said to Satoshi: Satoshi, this ‘Quantum Brew’ might just be the blend to unlock your next crypto idea—let’s see how it spins the taste of innovation! \n",
      "\n"
     ]
    }
   ],
   "source": [
    "talkingInfo, is_talking = BhrLgcManualProcess.parse_talking_from_java(java_json)\n",
    "is_idling = BhrLgcManualProcess.parse_isIdling(java_json)\n",
    "    \n",
    "\n",
    "inputInHumanString = BhrLgcManualProcess.parse_npc_info_for_nextaction(java_json)\n",
    "\n",
    "is_findingToTalk = BhrLgcManualProcess.parse_isFindingPeopletoTalk(java_json) # Last action is finding people to talk\n",
    "is_idling = BhrLgcManualProcess.parse_isIdling(java_json)\n",
    "is_talking = BhrLgcManualProcess.parse_isTalking(java_json) \n",
    "is_buying = BhrLgcManualProcess.parse_isBuying(java_json)\n",
    "\n",
    "target_sleeping, sleep_target_name = BhrLgcManualProcess.parse_target_sleeping(java_json) \n",
    "target_talking, talk_target_name = BhrLgcManualProcess.parse_target_talking(java_json)\n",
    "shop_target_present, shopowner_target_name  = BhrLgcManualProcess.parse_target_oid_owner_at_shop(java_json)\n",
    "\n",
    "\n",
    "to_memory = BhrLgcManualProcess.parse_npc_info_formemory(java_json)\n",
    "\n",
    "print(\"talkingInfo:\", talkingInfo)\n",
    "print(\"is_talking:\", is_talking)\n",
    "print(\"is_idling:\", is_idling)\n",
    "print(\"inputInHumanString:\", inputInHumanString)\n",
    "print(\"is_findingToTalk:\", is_findingToTalk)\n",
    "print(\"is_talking:\", is_talking)\n",
    "print(\"is_buying:\", is_buying)\n",
    "print(\"target_sleeping:\", target_sleeping)\n",
    "print(\"sleep_target_name:\", sleep_target_name)\n",
    "print(\"target_talking:\", target_talking)\n",
    "print(\"talk_target_name:\", talk_target_name)\n",
    "print(\"shop_target_present:\", shop_target_present)\n",
    "print(\"shopowner_target_name:\", shopowner_target_name)\n",
    "print(\"to_memory:\", to_memory)"
   ]
  },
  {
   "cell_type": "code",
   "execution_count": 5,
   "metadata": {},
   "outputs": [
    {
     "data": {
      "text/plain": [
       "{'world': {'time': 1878522183069},\n",
       " 'npcs': [{'npcId': 10006,\n",
       "   'status': 'free',\n",
       "   'selling': [],\n",
       "   'items': [],\n",
       "   'action': {'param': {'gridX': 0.0, 'gridY': 0.0, 'npcId': 10010.0}},\n",
       "   'curAction': {},\n",
       "   'mapData': [],\n",
       "   'surroundings': {'people': [{'npcId': 10007, 'status': 'free'},\n",
       "     {'npcId': 10008, 'status': 'free'},\n",
       "     {'npcId': 10009, 'status': 'free'},\n",
       "     {'npcId': 10010, 'status': 'move'}],\n",
       "    'items': []},\n",
       "   'talk': {'isTalking': True,\n",
       "    'talkingTo': [10010],\n",
       "    'contents': [{'sender': 10010,\n",
       "      'target': 10006,\n",
       "      'time': 1733814348917,\n",
       "      'content': 'Satoshi, this ‘Quantum Brew’ might just be the blend to unlock your next crypto idea—let’s see how it spins the taste of innovation!'}]}}]}"
      ]
     },
     "execution_count": 5,
     "metadata": {},
     "output_type": "execute_result"
    }
   ],
   "source": [
    "test_json"
   ]
  },
  {
   "cell_type": "code",
   "execution_count": 6,
   "metadata": {},
   "outputs": [
    {
     "ename": "NameError",
     "evalue": "name '__file__' is not defined",
     "output_type": "error",
     "traceback": [
      "\u001b[0;31m---------------------------------------------------------------------------\u001b[0m",
      "\u001b[0;31mNameError\u001b[0m                                 Traceback (most recent call last)",
      "Cell \u001b[0;32mIn[6], line 4\u001b[0m\n\u001b[1;32m      2\u001b[0m \u001b[38;5;28;01mimport\u001b[39;00m \u001b[38;5;21;01mos\u001b[39;00m\n\u001b[1;32m      3\u001b[0m \u001b[38;5;66;03m# Add the base directory (one level up from the current directory)\u001b[39;00m\n\u001b[0;32m----> 4\u001b[0m base_dir \u001b[38;5;241m=\u001b[39m os\u001b[38;5;241m.\u001b[39mpath\u001b[38;5;241m.\u001b[39mabspath(os\u001b[38;5;241m.\u001b[39mpath\u001b[38;5;241m.\u001b[39mjoin(os\u001b[38;5;241m.\u001b[39mpath\u001b[38;5;241m.\u001b[39mdirname(\u001b[38;5;18;43m__file__\u001b[39;49m), \u001b[38;5;124m'\u001b[39m\u001b[38;5;124m..\u001b[39m\u001b[38;5;124m'\u001b[39m))\n\u001b[1;32m      5\u001b[0m sys\u001b[38;5;241m.\u001b[39mpath\u001b[38;5;241m.\u001b[39mappend(base_dir)\n\u001b[1;32m      7\u001b[0m \u001b[38;5;28;01mfrom\u001b[39;00m \u001b[38;5;21;01mDBConnect\u001b[39;00m \u001b[38;5;28;01mimport\u001b[39;00m DBCon\n",
      "\u001b[0;31mNameError\u001b[0m: name '__file__' is not defined"
     ]
    }
   ],
   "source": [
    "import sys\n",
    "import os\n",
    "# Add the base directory (one level up from the current directory)\n",
    "base_dir = os.path.abspath(os.path.join(os.path.dirname(__file__), '..'))\n",
    "sys.path.append(base_dir)\n",
    "\n",
    "from DBConnect import DBCon\n",
    "from DBConnect import BhrDBJavaBuffer\n",
    "from DBConnect import BhrDBInstruction\n",
    "from DBConnect import BhrDBReflectionTracer\n",
    "from DBConnect import BhrDBMemStre\n",
    "from DBConnect import BhrDBReflection\n",
    "from DBConnect import BhrDBSchedule\n",
    "\n",
    "import BhrLgcGPTProcess\n",
    "import BhrLgcManualProcess\n",
    "import BhrLgcToMemStre\n",
    "\n",
    "import pandas as pd\n",
    "import numpy as np\n",
    "import json\n",
    "import re\n",
    "import pickle\n",
    "import hashlib\n",
    "import configparser\n",
    "import yaml\n",
    "\n",
    "config = configparser.ConfigParser()\n",
    "# Adjust path to look for config.ini in AImodule regardless of the current directory\n",
    "base_dir = os.path.abspath(os.path.join(os.path.dirname(__file__), '..'))\n",
    "config_path = os.path.join(base_dir, 'config.ini')\n",
    "config.read(config_path)\n",
    "\n",
    "yaml_path = os.path.join(base_dir, 'char_config.yaml')\n",
    "\n",
    "# Load the YAML file\n",
    "\n",
    "with open(yaml_path, 'r') as file:\n",
    "    char_config = yaml.safe_load(file)\n",
    "    print(\"YAML content loaded successfully.\")\n"
   ]
  },
  {
   "cell_type": "code",
   "execution_count": null,
   "metadata": {},
   "outputs": [],
   "source": [
    "\n",
    "npc = next((npc for npc in char_config['npcCharacters'] if npc['npcId'] == npcId), None)\n",
    "if not npc:\n",
    "    raise ValueError(f\"NPC with npcId {npcId} not found in char.yaml\")\n",
    "cur_schedule_str =  npc['schedule']"
   ]
  }
 ],
 "metadata": {
  "kernelspec": {
   "display_name": "aitown",
   "language": "python",
   "name": "python3"
  },
  "language_info": {
   "codemirror_mode": {
    "name": "ipython",
    "version": 3
   },
   "file_extension": ".py",
   "mimetype": "text/x-python",
   "name": "python",
   "nbconvert_exporter": "python",
   "pygments_lexer": "ipython3",
   "version": "3.11.4"
  }
 },
 "nbformat": 4,
 "nbformat_minor": 2
}
