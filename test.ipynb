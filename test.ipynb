{
 "cells": [
  {
   "cell_type": "code",
   "execution_count": 1,
   "metadata": {},
   "outputs": [],
   "source": [
    "import sys\n",
    "import os\n",
    "\n",
    "sys.path.append('./DBmanipulation')\n",
    "import DBCon\n",
    "import BufferDB\n",
    "import ReflectionTracerDB\n",
    "import MemStreDB\n",
    "import ReflectionDB\n",
    "import ScheduleDB\n",
    "import InstructionDB\n",
    "\n",
    "# sys.path.append('./MemoryStream')\n",
    "# import GPTProcess\n",
    "# import InstToMemStre\n",
    "# import InputToMemStre\n",
    "\n",
    "import pandas as pd\n",
    "import numpy as np\n",
    "import json\n",
    "import re\n",
    "import pickle\n",
    "import time\n"
   ]
  },
  {
   "cell_type": "code",
   "execution_count": 2,
   "metadata": {},
   "outputs": [
    {
     "name": "stdout",
     "output_type": "stream",
     "text": [
      "Current working directory: /Users/jackhan/Desktop/AITown/satoshiLive/AIModule\n",
      "Config sections found: ['mysql', 'Paths']\n",
      "Connected to MySQL server and database 'AITown'\n",
      "Database 'AITown' exists.\n",
      "Table 'java_response_buffer' exists in database 'AITown'.\n",
      "Table 'memeory_stream' exists in database 'AITown'.\n",
      "Table 'reflection_stream' exists in database 'AITown'.\n",
      "Table 'reflection_tracer' exists in database 'AITown'.\n",
      "Table 'schedule_stream' exists in database 'AITown'.\n",
      "Table 'instruction_buffer' exists in database 'AITown'.\n",
      "All content in the 'java_response_buffer' table has been deleted successfully.\n",
      "All instructions in the 'instruction_buffer' table have been deleted successfully.\n",
      "All content in the 'schedule_stream' table has been deleted successfully.\n",
      "All entries in the 'reflection_tracer' table have been deleted successfully.\n",
      "All content in the 'reflection_stream' table has been deleted successfully.\n",
      "All content in the 'memeory_stream' table has been deleted successfully.\n"
     ]
    }
   ],
   "source": [
    "instruction_db_conn = schedule_db_conn = buffer_db_conn = reflection_tracer_db_conn = reflection_db_conne = memstre_db_conn = buffer_db_conn= DBCon.establish_sql_connection()\n",
    "\n",
    "if not BufferDB.database_exists(buffer_db_conn):\n",
    "    BufferDB.create_database(buffer_db_conn)\n",
    "if not BufferDB.table_exists(buffer_db_conn):\n",
    "    BufferDB.create_table(buffer_db_conn)\n",
    "if not MemStreDB.table_exists(memstre_db_conn):\n",
    "    MemStreDB.create_table(memstre_db_conn)\n",
    "if not ReflectionDB.table_exists(reflection_db_conne):\n",
    "    ReflectionDB.create_table(reflection_db_conne)\n",
    "if not ReflectionTracerDB.table_exists(reflection_tracer_db_conn):\n",
    "    ReflectionTracerDB.create_table(reflection_tracer_db_conn)\n",
    "if not ScheduleDB.table_exists(schedule_db_conn):\n",
    "    ScheduleDB.create_table(schedule_db_conn)\n",
    "if not InstructionDB.instruction_table_exists(instruction_db_conn):\n",
    "    InstructionDB.create_instruction_table(instruction_db_conn)\n",
    "\n",
    "    \n",
    "BufferDB.delete_all_content_in_buffer(buffer_db_conn)\n",
    "InstructionDB.delete_all_instructions(instruction_db_conn)\n",
    "ScheduleDB.delete_all_content(schedule_db_conn)\n",
    "ReflectionTracerDB.delete_all_entries(reflection_tracer_db_conn)\n",
    "ReflectionDB.delete_all_content(reflection_db_conne)\n",
    "MemStreDB.delete_all_content_in_buffer(memstre_db_conn)"
   ]
  },
  {
   "cell_type": "code",
   "execution_count": 3,
   "metadata": {},
   "outputs": [
    {
     "name": "stdout",
     "output_type": "stream",
     "text": [
      "Current working directory: /Users/jackhan/Desktop/AITown/satoshiLive/AIModule\n",
      "Config sections found: ['mysql', 'Paths']\n",
      "Connected to MySQL server and database 'AITown'\n"
     ]
    }
   ],
   "source": [
    "db_connection = DBCon.establish_sql_connection()"
   ]
  },
  {
   "cell_type": "code",
   "execution_count": 4,
   "metadata": {},
   "outputs": [
    {
     "name": "stdout",
     "output_type": "stream",
     "text": [
      "/Users/jackhan/Desktop/AITown/satoshiLive/AIModule\n"
     ]
    }
   ],
   "source": [
    "!pwd"
   ]
  },
  {
   "cell_type": "markdown",
   "metadata": {},
   "source": []
  },
  {
   "cell_type": "code",
   "execution_count": null,
   "metadata": {},
   "outputs": [],
   "source": []
  }
 ],
 "metadata": {
  "kernelspec": {
   "display_name": "base",
   "language": "python",
   "name": "python3"
  },
  "language_info": {
   "codemirror_mode": {
    "name": "ipython",
    "version": 3
   },
   "file_extension": ".py",
   "mimetype": "text/x-python",
   "name": "python",
   "nbconvert_exporter": "python",
   "pygments_lexer": "ipython3",
   "version": "3.11.4"
  }
 },
 "nbformat": 4,
 "nbformat_minor": 2
}
